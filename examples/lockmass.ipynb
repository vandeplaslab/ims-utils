{
 "cells": [
  {
   "cell_type": "code",
   "execution_count": null,
   "id": "initial_id",
   "metadata": {
    "collapsed": true
   },
   "outputs": [],
   "source": [
    "from ims_utils.lockmass import LockmassEstimator\n",
    "from imzy import get_reader"
   ]
  },
  {
   "metadata": {},
   "cell_type": "code",
   "outputs": [],
   "execution_count": null,
   "source": [
    "# get instance of reader\n",
    "path = \"path-to-file\"\n",
    "reader = get_reader(path)\n",
    "\n",
    "\n",
    "# specify peaks which should be used as lockmass\n",
    "peaks = []\n",
    "\n",
    "# specify the window around each peak to use for estimation\n",
    "window = 0.1\n",
    "\n",
    "# create instance of LockmassEstimator\n",
    "estimator = LockmassEstimator(reader.mz_x, peaks=peaks, window=window)"
   ],
   "id": "ea95e69373266a84"
  },
  {
   "metadata": {},
   "cell_type": "code",
   "outputs": [],
   "execution_count": null,
   "source": "mz_shifts = estimator.estimate_for_reader(reader)",
   "id": "8f0067f81d20acab"
  }
 ],
 "metadata": {
  "kernelspec": {
   "display_name": "Python 3",
   "language": "python",
   "name": "python3"
  },
  "language_info": {
   "codemirror_mode": {
    "name": "ipython",
    "version": 2
   },
   "file_extension": ".py",
   "mimetype": "text/x-python",
   "name": "python",
   "nbconvert_exporter": "python",
   "pygments_lexer": "ipython2",
   "version": "2.7.6"
  }
 },
 "nbformat": 4,
 "nbformat_minor": 5
}
