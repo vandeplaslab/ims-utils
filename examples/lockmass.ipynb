{
 "cells": [
  {
   "cell_type": "code",
   "execution_count": 1,
   "id": "initial_id",
   "metadata": {
    "collapsed": true
   },
   "outputs": [],
   "source": [
    "from imzy import get_reader\n",
    "\n",
    "from ims_utils.lockmass import LockmassEstimator"
   ]
  },
  {
   "cell_type": "code",
   "execution_count": 3,
   "id": "1387a9f0",
   "metadata": {},
   "outputs": [],
   "source": [
    "# get instance of reader\n",
    "path = r\"\\\\10.33.2.5\\msrc\\autoims\\kpmp\\negative-22-11\\raw\\221114_IMS_BlockQC_Set2_Slide4_NEG.d\"\n",
    "reader = get_reader(path)"
   ]
  },
  {
   "cell_type": "code",
   "execution_count": 4,
   "id": "ea95e69373266a84",
   "metadata": {},
   "outputs": [],
   "source": [
    "# specify peaks which should be used as lockmass\n",
    "peaks = [\n",
    "    616.471, 687.545, 714.508, 722.513, 744.555, 750.544, 766.539, 885.549, 1052.688\n",
    "]\n",
    "\n",
    "# specify the window around each peak to use for estimation\n",
    "window = 0.1\n",
    "\n",
    "# create instance of LockmassEstimator\n",
    "estimator = LockmassEstimator(reader.mz_x, peaks=peaks, window=window)"
   ]
  },
  {
   "cell_type": "code",
   "execution_count": 11,
   "id": "3e3ab2d2",
   "metadata": {},
   "outputs": [
    {
     "name": "stderr",
     "output_type": "stream",
     "text": [
      "Iterating spectra...: 100%|██████████| 16965/16965 [01:41<00:00, 166.53it/s]\n"
     ]
    }
   ],
   "source": [
    "x, y = reader[0]\n",
    "shift = estimator(y)\n",
    "shifts = estimator.estimate_for_reader(reader)"
   ]
  },
  {
   "cell_type": "code",
   "execution_count": null,
   "id": "8f0067f81d20acab",
   "metadata": {},
   "outputs": [],
   "source": [
    "mz_shifts = estimator.estimate_for_reader(reader)"
   ]
  }
 ],
 "metadata": {
  "kernelspec": {
   "display_name": "venv2 (3.10.15)",
   "language": "python",
   "name": "python3"
  },
  "language_info": {
   "codemirror_mode": {
    "name": "ipython",
    "version": 3
   },
   "file_extension": ".py",
   "mimetype": "text/x-python",
   "name": "python",
   "nbconvert_exporter": "python",
   "pygments_lexer": "ipython3",
   "version": "3.10.15"
  }
 },
 "nbformat": 4,
 "nbformat_minor": 5
}
